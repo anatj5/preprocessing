{
  "nbformat": 4,
  "nbformat_minor": 0,
  "metadata": {
    "colab": {
      "provenance": [],
      "authorship_tag": "ABX9TyOFQLbZVhwvE4bFkHKuHfL3",
      "include_colab_link": true
    },
    "kernelspec": {
      "name": "python3",
      "display_name": "Python 3"
    },
    "language_info": {
      "name": "python"
    }
  },
  "cells": [
    {
      "cell_type": "markdown",
      "metadata": {
        "id": "view-in-github",
        "colab_type": "text"
      },
      "source": [
        "<a href=\"https://colab.research.google.com/github/anatj5/preprocessing/blob/main/Untitled0.ipynb\" target=\"_parent\"><img src=\"https://colab.research.google.com/assets/colab-badge.svg\" alt=\"Open In Colab\"/></a>"
      ]
    },
    {
      "cell_type": "code",
      "execution_count": 1,
      "metadata": {
        "colab": {
          "base_uri": "https://localhost:8080/"
        },
        "id": "m_dNCkRQsdrA",
        "outputId": "b7ad7296-8cc5-4ec6-cbc6-53397052b1f2"
      },
      "outputs": [
        {
          "output_type": "stream",
          "name": "stderr",
          "text": [
            "[nltk_data] Downloading package punkt to /root/nltk_data...\n",
            "[nltk_data]   Unzipping tokenizers/punkt.zip.\n"
          ]
        },
        {
          "output_type": "execute_result",
          "data": {
            "text/plain": [
              "True"
            ]
          },
          "metadata": {},
          "execution_count": 1
        }
      ],
      "source": [
        "import nltk\n",
        "\n",
        "nltk.download('punkt')"
      ]
    },
    {
      "cell_type": "code",
      "source": [
        "paragraph = \"\"\"The cool morning breeze rustled the leaves of the towering oak tree, casting a gentle dappled light across the well-trodden path. As the sun slowly crested the horizon, its golden rays illuminated the vibrant hues of the surrounding gardens, transforming the tranquil park into a living, breathing work of art.\n",
        "\n",
        "It was in this serene setting that Emma found her daily solace. Each morning, without fail, she would make her way to the same bench, a steaming cup of coffee in hand, and simply sit, allowing the stress of the outside world to melt away. For her, this was more than just a routine – it was a sacred ritual, a moment of respite in an otherwise hectic life.\n",
        "\n",
        "As she settled onto the weathered wooden seat, Emma's gaze swept across the well-manicured lawns, where joggers and dog-walkers alike meandered past, each lost in their own thoughts. The gentle sound of a nearby fountain, its waters cascading over the smooth stones, seemed to create a soothing melody that Emma found herself instinctively humming along to.\n",
        "\n",
        "In the distance, a group of children squealed with laughter as they chased each other through the grass, their carefree joy a stark contrast to the weighty concerns that often weighed on Emma's mind. She couldn't help but smile, watching as their unbridled energy and enthusiasm reminded her of a time when the world seemed simpler, when the worries of adulthood were but a distant memory.\n",
        "\n",
        "As she sipped her coffee, its rich aroma filling her senses, Emma allowed her thoughts to drift. She thought about her work, the never-ending deadlines and the constant pressure to perform, and how easily it had consumed her life. There were times when she felt like she was drowning, struggling to keep her head above the waves of responsibility and expectation.\n",
        "\n",
        "But here, in this tranquil oasis, Emma found a sense of peace and clarity that she couldn't seem to access anywhere else. The rhythmic chirping of the birds, the gentle rustling of the leaves, and the distant hum of the city beyond the park's boundaries all seemed to blend together, creating a soothing symphony that calmed her mind and soothed her soul.\n",
        "\n",
        "As the minutes ticked by, Emma's fingers idly traced the intricate carvings on the bench, a testament to the countless others who had found solace in this very spot over the years. It was as if she was connecting with a community of kindred spirits, all seeking refuge from the demands of the modern world.\n",
        "\n",
        "With a deep, cleansing breath, Emma rose from her seat, her coffee cup now empty. She knew that she would have to return to the office, to the never-ending barrage of emails and the relentless pressure to perform. But for now, she felt refreshed, her mind clear and her spirit lifted. As she made her way back down the path, Emma couldn't help but feel grateful for the oasis of calm that this park had become in her life – a sanctuary where she could always find a moment of peace, no matter how hectic the world beyond might be.\"\"\""
      ],
      "metadata": {
        "id": "kRHHb1vrsoNQ"
      },
      "execution_count": 2,
      "outputs": []
    },
    {
      "cell_type": "code",
      "source": [
        "# Tokenizing sentences\n",
        "sentences = nltk.sent_tokenize(paragraph)\n",
        "sentences"
      ],
      "metadata": {
        "colab": {
          "base_uri": "https://localhost:8080/"
        },
        "id": "OqLBb-XXtuSX",
        "outputId": "e2f9c068-2c56-4e3e-b772-72dd2f08c466"
      },
      "execution_count": 3,
      "outputs": [
        {
          "output_type": "execute_result",
          "data": {
            "text/plain": [
              "['The cool morning breeze rustled the leaves of the towering oak tree, casting a gentle dappled light across the well-trodden path.',\n",
              " 'As the sun slowly crested the horizon, its golden rays illuminated the vibrant hues of the surrounding gardens, transforming the tranquil park into a living, breathing work of art.',\n",
              " 'It was in this serene setting that Emma found her daily solace.',\n",
              " 'Each morning, without fail, she would make her way to the same bench, a steaming cup of coffee in hand, and simply sit, allowing the stress of the outside world to melt away.',\n",
              " 'For her, this was more than just a routine – it was a sacred ritual, a moment of respite in an otherwise hectic life.',\n",
              " \"As she settled onto the weathered wooden seat, Emma's gaze swept across the well-manicured lawns, where joggers and dog-walkers alike meandered past, each lost in their own thoughts.\",\n",
              " 'The gentle sound of a nearby fountain, its waters cascading over the smooth stones, seemed to create a soothing melody that Emma found herself instinctively humming along to.',\n",
              " \"In the distance, a group of children squealed with laughter as they chased each other through the grass, their carefree joy a stark contrast to the weighty concerns that often weighed on Emma's mind.\",\n",
              " \"She couldn't help but smile, watching as their unbridled energy and enthusiasm reminded her of a time when the world seemed simpler, when the worries of adulthood were but a distant memory.\",\n",
              " 'As she sipped her coffee, its rich aroma filling her senses, Emma allowed her thoughts to drift.',\n",
              " 'She thought about her work, the never-ending deadlines and the constant pressure to perform, and how easily it had consumed her life.',\n",
              " 'There were times when she felt like she was drowning, struggling to keep her head above the waves of responsibility and expectation.',\n",
              " \"But here, in this tranquil oasis, Emma found a sense of peace and clarity that she couldn't seem to access anywhere else.\",\n",
              " \"The rhythmic chirping of the birds, the gentle rustling of the leaves, and the distant hum of the city beyond the park's boundaries all seemed to blend together, creating a soothing symphony that calmed her mind and soothed her soul.\",\n",
              " \"As the minutes ticked by, Emma's fingers idly traced the intricate carvings on the bench, a testament to the countless others who had found solace in this very spot over the years.\",\n",
              " 'It was as if she was connecting with a community of kindred spirits, all seeking refuge from the demands of the modern world.',\n",
              " 'With a deep, cleansing breath, Emma rose from her seat, her coffee cup now empty.',\n",
              " 'She knew that she would have to return to the office, to the never-ending barrage of emails and the relentless pressure to perform.',\n",
              " 'But for now, she felt refreshed, her mind clear and her spirit lifted.',\n",
              " \"As she made her way back down the path, Emma couldn't help but feel grateful for the oasis of calm that this park had become in her life – a sanctuary where she could always find a moment of peace, no matter how hectic the world beyond might be.\"]"
            ]
          },
          "metadata": {},
          "execution_count": 3
        }
      ]
    },
    {
      "cell_type": "code",
      "source": [
        "# Tokenizing words\n",
        "words = nltk.word_tokenize(paragraph)\n",
        "words"
      ],
      "metadata": {
        "colab": {
          "base_uri": "https://localhost:8080/"
        },
        "id": "ec7EMwfut40N",
        "outputId": "7cf85a59-eec3-4564-e1f7-3b7b2dbde219"
      },
      "execution_count": 4,
      "outputs": [
        {
          "output_type": "execute_result",
          "data": {
            "text/plain": [
              "['The',\n",
              " 'cool',\n",
              " 'morning',\n",
              " 'breeze',\n",
              " 'rustled',\n",
              " 'the',\n",
              " 'leaves',\n",
              " 'of',\n",
              " 'the',\n",
              " 'towering',\n",
              " 'oak',\n",
              " 'tree',\n",
              " ',',\n",
              " 'casting',\n",
              " 'a',\n",
              " 'gentle',\n",
              " 'dappled',\n",
              " 'light',\n",
              " 'across',\n",
              " 'the',\n",
              " 'well-trodden',\n",
              " 'path',\n",
              " '.',\n",
              " 'As',\n",
              " 'the',\n",
              " 'sun',\n",
              " 'slowly',\n",
              " 'crested',\n",
              " 'the',\n",
              " 'horizon',\n",
              " ',',\n",
              " 'its',\n",
              " 'golden',\n",
              " 'rays',\n",
              " 'illuminated',\n",
              " 'the',\n",
              " 'vibrant',\n",
              " 'hues',\n",
              " 'of',\n",
              " 'the',\n",
              " 'surrounding',\n",
              " 'gardens',\n",
              " ',',\n",
              " 'transforming',\n",
              " 'the',\n",
              " 'tranquil',\n",
              " 'park',\n",
              " 'into',\n",
              " 'a',\n",
              " 'living',\n",
              " ',',\n",
              " 'breathing',\n",
              " 'work',\n",
              " 'of',\n",
              " 'art',\n",
              " '.',\n",
              " 'It',\n",
              " 'was',\n",
              " 'in',\n",
              " 'this',\n",
              " 'serene',\n",
              " 'setting',\n",
              " 'that',\n",
              " 'Emma',\n",
              " 'found',\n",
              " 'her',\n",
              " 'daily',\n",
              " 'solace',\n",
              " '.',\n",
              " 'Each',\n",
              " 'morning',\n",
              " ',',\n",
              " 'without',\n",
              " 'fail',\n",
              " ',',\n",
              " 'she',\n",
              " 'would',\n",
              " 'make',\n",
              " 'her',\n",
              " 'way',\n",
              " 'to',\n",
              " 'the',\n",
              " 'same',\n",
              " 'bench',\n",
              " ',',\n",
              " 'a',\n",
              " 'steaming',\n",
              " 'cup',\n",
              " 'of',\n",
              " 'coffee',\n",
              " 'in',\n",
              " 'hand',\n",
              " ',',\n",
              " 'and',\n",
              " 'simply',\n",
              " 'sit',\n",
              " ',',\n",
              " 'allowing',\n",
              " 'the',\n",
              " 'stress',\n",
              " 'of',\n",
              " 'the',\n",
              " 'outside',\n",
              " 'world',\n",
              " 'to',\n",
              " 'melt',\n",
              " 'away',\n",
              " '.',\n",
              " 'For',\n",
              " 'her',\n",
              " ',',\n",
              " 'this',\n",
              " 'was',\n",
              " 'more',\n",
              " 'than',\n",
              " 'just',\n",
              " 'a',\n",
              " 'routine',\n",
              " '–',\n",
              " 'it',\n",
              " 'was',\n",
              " 'a',\n",
              " 'sacred',\n",
              " 'ritual',\n",
              " ',',\n",
              " 'a',\n",
              " 'moment',\n",
              " 'of',\n",
              " 'respite',\n",
              " 'in',\n",
              " 'an',\n",
              " 'otherwise',\n",
              " 'hectic',\n",
              " 'life',\n",
              " '.',\n",
              " 'As',\n",
              " 'she',\n",
              " 'settled',\n",
              " 'onto',\n",
              " 'the',\n",
              " 'weathered',\n",
              " 'wooden',\n",
              " 'seat',\n",
              " ',',\n",
              " 'Emma',\n",
              " \"'s\",\n",
              " 'gaze',\n",
              " 'swept',\n",
              " 'across',\n",
              " 'the',\n",
              " 'well-manicured',\n",
              " 'lawns',\n",
              " ',',\n",
              " 'where',\n",
              " 'joggers',\n",
              " 'and',\n",
              " 'dog-walkers',\n",
              " 'alike',\n",
              " 'meandered',\n",
              " 'past',\n",
              " ',',\n",
              " 'each',\n",
              " 'lost',\n",
              " 'in',\n",
              " 'their',\n",
              " 'own',\n",
              " 'thoughts',\n",
              " '.',\n",
              " 'The',\n",
              " 'gentle',\n",
              " 'sound',\n",
              " 'of',\n",
              " 'a',\n",
              " 'nearby',\n",
              " 'fountain',\n",
              " ',',\n",
              " 'its',\n",
              " 'waters',\n",
              " 'cascading',\n",
              " 'over',\n",
              " 'the',\n",
              " 'smooth',\n",
              " 'stones',\n",
              " ',',\n",
              " 'seemed',\n",
              " 'to',\n",
              " 'create',\n",
              " 'a',\n",
              " 'soothing',\n",
              " 'melody',\n",
              " 'that',\n",
              " 'Emma',\n",
              " 'found',\n",
              " 'herself',\n",
              " 'instinctively',\n",
              " 'humming',\n",
              " 'along',\n",
              " 'to',\n",
              " '.',\n",
              " 'In',\n",
              " 'the',\n",
              " 'distance',\n",
              " ',',\n",
              " 'a',\n",
              " 'group',\n",
              " 'of',\n",
              " 'children',\n",
              " 'squealed',\n",
              " 'with',\n",
              " 'laughter',\n",
              " 'as',\n",
              " 'they',\n",
              " 'chased',\n",
              " 'each',\n",
              " 'other',\n",
              " 'through',\n",
              " 'the',\n",
              " 'grass',\n",
              " ',',\n",
              " 'their',\n",
              " 'carefree',\n",
              " 'joy',\n",
              " 'a',\n",
              " 'stark',\n",
              " 'contrast',\n",
              " 'to',\n",
              " 'the',\n",
              " 'weighty',\n",
              " 'concerns',\n",
              " 'that',\n",
              " 'often',\n",
              " 'weighed',\n",
              " 'on',\n",
              " 'Emma',\n",
              " \"'s\",\n",
              " 'mind',\n",
              " '.',\n",
              " 'She',\n",
              " 'could',\n",
              " \"n't\",\n",
              " 'help',\n",
              " 'but',\n",
              " 'smile',\n",
              " ',',\n",
              " 'watching',\n",
              " 'as',\n",
              " 'their',\n",
              " 'unbridled',\n",
              " 'energy',\n",
              " 'and',\n",
              " 'enthusiasm',\n",
              " 'reminded',\n",
              " 'her',\n",
              " 'of',\n",
              " 'a',\n",
              " 'time',\n",
              " 'when',\n",
              " 'the',\n",
              " 'world',\n",
              " 'seemed',\n",
              " 'simpler',\n",
              " ',',\n",
              " 'when',\n",
              " 'the',\n",
              " 'worries',\n",
              " 'of',\n",
              " 'adulthood',\n",
              " 'were',\n",
              " 'but',\n",
              " 'a',\n",
              " 'distant',\n",
              " 'memory',\n",
              " '.',\n",
              " 'As',\n",
              " 'she',\n",
              " 'sipped',\n",
              " 'her',\n",
              " 'coffee',\n",
              " ',',\n",
              " 'its',\n",
              " 'rich',\n",
              " 'aroma',\n",
              " 'filling',\n",
              " 'her',\n",
              " 'senses',\n",
              " ',',\n",
              " 'Emma',\n",
              " 'allowed',\n",
              " 'her',\n",
              " 'thoughts',\n",
              " 'to',\n",
              " 'drift',\n",
              " '.',\n",
              " 'She',\n",
              " 'thought',\n",
              " 'about',\n",
              " 'her',\n",
              " 'work',\n",
              " ',',\n",
              " 'the',\n",
              " 'never-ending',\n",
              " 'deadlines',\n",
              " 'and',\n",
              " 'the',\n",
              " 'constant',\n",
              " 'pressure',\n",
              " 'to',\n",
              " 'perform',\n",
              " ',',\n",
              " 'and',\n",
              " 'how',\n",
              " 'easily',\n",
              " 'it',\n",
              " 'had',\n",
              " 'consumed',\n",
              " 'her',\n",
              " 'life',\n",
              " '.',\n",
              " 'There',\n",
              " 'were',\n",
              " 'times',\n",
              " 'when',\n",
              " 'she',\n",
              " 'felt',\n",
              " 'like',\n",
              " 'she',\n",
              " 'was',\n",
              " 'drowning',\n",
              " ',',\n",
              " 'struggling',\n",
              " 'to',\n",
              " 'keep',\n",
              " 'her',\n",
              " 'head',\n",
              " 'above',\n",
              " 'the',\n",
              " 'waves',\n",
              " 'of',\n",
              " 'responsibility',\n",
              " 'and',\n",
              " 'expectation',\n",
              " '.',\n",
              " 'But',\n",
              " 'here',\n",
              " ',',\n",
              " 'in',\n",
              " 'this',\n",
              " 'tranquil',\n",
              " 'oasis',\n",
              " ',',\n",
              " 'Emma',\n",
              " 'found',\n",
              " 'a',\n",
              " 'sense',\n",
              " 'of',\n",
              " 'peace',\n",
              " 'and',\n",
              " 'clarity',\n",
              " 'that',\n",
              " 'she',\n",
              " 'could',\n",
              " \"n't\",\n",
              " 'seem',\n",
              " 'to',\n",
              " 'access',\n",
              " 'anywhere',\n",
              " 'else',\n",
              " '.',\n",
              " 'The',\n",
              " 'rhythmic',\n",
              " 'chirping',\n",
              " 'of',\n",
              " 'the',\n",
              " 'birds',\n",
              " ',',\n",
              " 'the',\n",
              " 'gentle',\n",
              " 'rustling',\n",
              " 'of',\n",
              " 'the',\n",
              " 'leaves',\n",
              " ',',\n",
              " 'and',\n",
              " 'the',\n",
              " 'distant',\n",
              " 'hum',\n",
              " 'of',\n",
              " 'the',\n",
              " 'city',\n",
              " 'beyond',\n",
              " 'the',\n",
              " 'park',\n",
              " \"'s\",\n",
              " 'boundaries',\n",
              " 'all',\n",
              " 'seemed',\n",
              " 'to',\n",
              " 'blend',\n",
              " 'together',\n",
              " ',',\n",
              " 'creating',\n",
              " 'a',\n",
              " 'soothing',\n",
              " 'symphony',\n",
              " 'that',\n",
              " 'calmed',\n",
              " 'her',\n",
              " 'mind',\n",
              " 'and',\n",
              " 'soothed',\n",
              " 'her',\n",
              " 'soul',\n",
              " '.',\n",
              " 'As',\n",
              " 'the',\n",
              " 'minutes',\n",
              " 'ticked',\n",
              " 'by',\n",
              " ',',\n",
              " 'Emma',\n",
              " \"'s\",\n",
              " 'fingers',\n",
              " 'idly',\n",
              " 'traced',\n",
              " 'the',\n",
              " 'intricate',\n",
              " 'carvings',\n",
              " 'on',\n",
              " 'the',\n",
              " 'bench',\n",
              " ',',\n",
              " 'a',\n",
              " 'testament',\n",
              " 'to',\n",
              " 'the',\n",
              " 'countless',\n",
              " 'others',\n",
              " 'who',\n",
              " 'had',\n",
              " 'found',\n",
              " 'solace',\n",
              " 'in',\n",
              " 'this',\n",
              " 'very',\n",
              " 'spot',\n",
              " 'over',\n",
              " 'the',\n",
              " 'years',\n",
              " '.',\n",
              " 'It',\n",
              " 'was',\n",
              " 'as',\n",
              " 'if',\n",
              " 'she',\n",
              " 'was',\n",
              " 'connecting',\n",
              " 'with',\n",
              " 'a',\n",
              " 'community',\n",
              " 'of',\n",
              " 'kindred',\n",
              " 'spirits',\n",
              " ',',\n",
              " 'all',\n",
              " 'seeking',\n",
              " 'refuge',\n",
              " 'from',\n",
              " 'the',\n",
              " 'demands',\n",
              " 'of',\n",
              " 'the',\n",
              " 'modern',\n",
              " 'world',\n",
              " '.',\n",
              " 'With',\n",
              " 'a',\n",
              " 'deep',\n",
              " ',',\n",
              " 'cleansing',\n",
              " 'breath',\n",
              " ',',\n",
              " 'Emma',\n",
              " 'rose',\n",
              " 'from',\n",
              " 'her',\n",
              " 'seat',\n",
              " ',',\n",
              " 'her',\n",
              " 'coffee',\n",
              " 'cup',\n",
              " 'now',\n",
              " 'empty',\n",
              " '.',\n",
              " 'She',\n",
              " 'knew',\n",
              " 'that',\n",
              " 'she',\n",
              " 'would',\n",
              " 'have',\n",
              " 'to',\n",
              " 'return',\n",
              " 'to',\n",
              " 'the',\n",
              " 'office',\n",
              " ',',\n",
              " 'to',\n",
              " 'the',\n",
              " 'never-ending',\n",
              " 'barrage',\n",
              " 'of',\n",
              " 'emails',\n",
              " 'and',\n",
              " 'the',\n",
              " 'relentless',\n",
              " 'pressure',\n",
              " 'to',\n",
              " 'perform',\n",
              " '.',\n",
              " 'But',\n",
              " 'for',\n",
              " 'now',\n",
              " ',',\n",
              " 'she',\n",
              " 'felt',\n",
              " 'refreshed',\n",
              " ',',\n",
              " 'her',\n",
              " 'mind',\n",
              " 'clear',\n",
              " 'and',\n",
              " 'her',\n",
              " 'spirit',\n",
              " 'lifted',\n",
              " '.',\n",
              " 'As',\n",
              " 'she',\n",
              " 'made',\n",
              " 'her',\n",
              " 'way',\n",
              " 'back',\n",
              " 'down',\n",
              " 'the',\n",
              " 'path',\n",
              " ',',\n",
              " 'Emma',\n",
              " 'could',\n",
              " \"n't\",\n",
              " 'help',\n",
              " 'but',\n",
              " 'feel',\n",
              " 'grateful',\n",
              " 'for',\n",
              " 'the',\n",
              " 'oasis',\n",
              " 'of',\n",
              " 'calm',\n",
              " 'that',\n",
              " 'this',\n",
              " 'park',\n",
              " 'had',\n",
              " 'become',\n",
              " 'in',\n",
              " 'her',\n",
              " 'life',\n",
              " '–',\n",
              " 'a',\n",
              " 'sanctuary',\n",
              " 'where',\n",
              " 'she',\n",
              " 'could',\n",
              " 'always',\n",
              " 'find',\n",
              " 'a',\n",
              " 'moment',\n",
              " 'of',\n",
              " 'peace',\n",
              " ',',\n",
              " 'no',\n",
              " 'matter',\n",
              " 'how',\n",
              " 'hectic',\n",
              " 'the',\n",
              " 'world',\n",
              " 'beyond',\n",
              " 'might',\n",
              " 'be',\n",
              " '.']"
            ]
          },
          "metadata": {},
          "execution_count": 4
        }
      ]
    },
    {
      "cell_type": "code",
      "source": [
        "from nltk.stem import PorterStemmer\n",
        "from nltk.corpus import stopwords\n",
        "nltk.download('stopwords')"
      ],
      "metadata": {
        "colab": {
          "base_uri": "https://localhost:8080/"
        },
        "id": "mYOpxJZLuPD3",
        "outputId": "160f2da5-6fb3-4218-a067-9279bda6e286"
      },
      "execution_count": 5,
      "outputs": [
        {
          "output_type": "stream",
          "name": "stderr",
          "text": [
            "[nltk_data] Downloading package stopwords to /root/nltk_data...\n",
            "[nltk_data]   Unzipping corpora/stopwords.zip.\n"
          ]
        },
        {
          "output_type": "execute_result",
          "data": {
            "text/plain": [
              "True"
            ]
          },
          "metadata": {},
          "execution_count": 5
        }
      ]
    },
    {
      "cell_type": "code",
      "source": [
        "stemmer = PorterStemmer()\n",
        "\n",
        "# stemming\n",
        "for i in range(len(sentences)):\n",
        "  words = nltk.word_tokenize(sentences[i])\n",
        "  words = [stemmer.stem(word) for word in words if word not in set(stopwords.words('english'))]\n",
        "  sentences[i] = ' '.join(words)"
      ],
      "metadata": {
        "id": "ExhcfX0Ouda4"
      },
      "execution_count": 7,
      "outputs": []
    },
    {
      "cell_type": "code",
      "source": [
        "sentences[1]"
      ],
      "metadata": {
        "colab": {
          "base_uri": "https://localhost:8080/",
          "height": 36
        },
        "id": "aBI3fRFMuhCX",
        "outputId": "14462aac-7014-44a0-cd77-c8bf665e5ceb"
      },
      "execution_count": 8,
      "outputs": [
        {
          "output_type": "execute_result",
          "data": {
            "text/plain": [
              "'sun slowli crest horizon , golden ray illumin vibrant hue surround garden , transform tranquil park live , breath work art .'"
            ],
            "application/vnd.google.colaboratory.intrinsic+json": {
              "type": "string"
            }
          },
          "metadata": {},
          "execution_count": 8
        }
      ]
    },
    {
      "cell_type": "code",
      "source": [
        "from nltk.stem import WordNetLemmatizer\n",
        "nltk.download('wordnet')"
      ],
      "metadata": {
        "colab": {
          "base_uri": "https://localhost:8080/"
        },
        "id": "hKluGE0Mv8cv",
        "outputId": "b45a829b-5d31-469a-c47a-3f8a0aca0936"
      },
      "execution_count": 9,
      "outputs": [
        {
          "output_type": "stream",
          "name": "stderr",
          "text": [
            "[nltk_data] Downloading package wordnet to /root/nltk_data...\n"
          ]
        },
        {
          "output_type": "execute_result",
          "data": {
            "text/plain": [
              "True"
            ]
          },
          "metadata": {},
          "execution_count": 9
        }
      ]
    },
    {
      "cell_type": "code",
      "source": [
        "lemmatizer = WordNetLemmatizer()\n",
        "\n",
        "sentences = nltk.sent_tokenize(paragraph)\n",
        "\n",
        "for i in range(len(sentences)):\n",
        "  words = nltk.word_tokenize(sentences[i])\n",
        "  words = [lemmatizer.lemmatize(word) for word in words if word not in set(stopwords.words('english'))]\n",
        "  sentences[i] = ' '.join(words)"
      ],
      "metadata": {
        "id": "58AzElP6wtLe"
      },
      "execution_count": 10,
      "outputs": []
    },
    {
      "cell_type": "code",
      "source": [
        "sentences[1]"
      ],
      "metadata": {
        "colab": {
          "base_uri": "https://localhost:8080/",
          "height": 36
        },
        "id": "E4iwfp4VxR1U",
        "outputId": "e47ba1fe-cabd-4aef-c979-dce3d03086a0"
      },
      "execution_count": 11,
      "outputs": [
        {
          "output_type": "execute_result",
          "data": {
            "text/plain": [
              "'As sun slowly crested horizon , golden ray illuminated vibrant hue surrounding garden , transforming tranquil park living , breathing work art .'"
            ],
            "application/vnd.google.colaboratory.intrinsic+json": {
              "type": "string"
            }
          },
          "metadata": {},
          "execution_count": 11
        }
      ]
    },
    {
      "cell_type": "code",
      "source": [
        "#cleaning the texts\n",
        "import re\n",
        "from nltk.corpus import stopwords\n",
        "from nltk.stem.porter import PorterStemmer\n",
        "from nltk.stem import WordNetLemmatizer\n",
        "ps = PorterStemmer()\n",
        "wordnet = WordNetLemmatizer()\n",
        "sentences = nltk.sent_tokenize(paragraph)\n",
        "corpus = []\n",
        "for i in range(len(sentences)):\n",
        "    review = re.sub('[^a-zA-Z]', ' ', sentences[i])\n",
        "    review = review.lower()\n",
        "    review = review.split()\n",
        "    review = [ps.stem(word) for word in review if not word in set(stopwords.words('english'))]\n",
        "    review = ' '.join(review)\n",
        "    corpus.append(review)\n",
        "\n",
        "# Creating the bag of words model\n",
        "from sklearn.feature_extraction.text import CountVectorizer\n",
        "cv = CountVectorizer(max_features= 1500)\n",
        "x = cv.fit_transform(corpus).toarray()"
      ],
      "metadata": {
        "id": "SWCh7Rzdzc0c"
      },
      "execution_count": 14,
      "outputs": []
    },
    {
      "cell_type": "code",
      "source": [
        "x"
      ],
      "metadata": {
        "colab": {
          "base_uri": "https://localhost:8080/"
        },
        "id": "uRlZD9QJzpA1",
        "outputId": "980bf754-8bba-4bcc-bdfb-bb0dd4546fde"
      },
      "execution_count": 16,
      "outputs": [
        {
          "output_type": "execute_result",
          "data": {
            "text/plain": [
              "array([[0, 1, 0, ..., 0, 0, 0],\n",
              "       [0, 0, 0, ..., 0, 0, 0],\n",
              "       [0, 0, 0, ..., 0, 0, 0],\n",
              "       ...,\n",
              "       [0, 0, 0, ..., 0, 1, 0],\n",
              "       [0, 0, 0, ..., 0, 0, 0],\n",
              "       [0, 0, 0, ..., 0, 0, 0]])"
            ]
          },
          "metadata": {},
          "execution_count": 16
        }
      ]
    },
    {
      "cell_type": "code",
      "source": [
        "sentences = nltk.sent_tokenize(paragraph)\n",
        "corpus =[]\n",
        "for i in range(len(sentences)):\n",
        "    review = re.sub('[^a-zA-Z]', ' ', sentences[i])\n",
        "    review = review.lower()\n",
        "    review = review.split()\n",
        "    review = [wordnet.lemmatize(word) for word in review if not word in set(stopwords.words('english'))]\n",
        "    review = ' '.join(review)\n",
        "    corpus.append(review)\n",
        "\n",
        "# Creating the TF-IDF model\n",
        "from sklearn.feature_extraction.text import TfidfVectorizer\n",
        "tf = TfidfVectorizer()\n",
        "x = tf.fit_transform(corpus).toarray()"
      ],
      "metadata": {
        "id": "1NOreqmkzq1Q"
      },
      "execution_count": 19,
      "outputs": []
    },
    {
      "cell_type": "code",
      "source": [
        "x"
      ],
      "metadata": {
        "colab": {
          "base_uri": "https://localhost:8080/"
        },
        "id": "XhM8HuBE1CET",
        "outputId": "fc03f0e5-349b-456e-e752-f8be1dbc4fad"
      },
      "execution_count": 20,
      "outputs": [
        {
          "output_type": "execute_result",
          "data": {
            "text/plain": [
              "array([[0.        , 0.23090072, 0.        , ..., 0.        , 0.        ,\n",
              "        0.        ],\n",
              "       [0.        , 0.        , 0.        , ..., 0.        , 0.        ,\n",
              "        0.        ],\n",
              "       [0.        , 0.        , 0.        , ..., 0.        , 0.        ,\n",
              "        0.        ],\n",
              "       ...,\n",
              "       [0.        , 0.        , 0.        , ..., 0.        , 0.27988811,\n",
              "        0.        ],\n",
              "       [0.        , 0.        , 0.        , ..., 0.        , 0.        ,\n",
              "        0.        ],\n",
              "       [0.        , 0.        , 0.        , ..., 0.        , 0.        ,\n",
              "        0.        ]])"
            ]
          },
          "metadata": {},
          "execution_count": 20
        }
      ]
    },
    {
      "cell_type": "code",
      "source": [],
      "metadata": {
        "id": "c0N2zXj75ohE"
      },
      "execution_count": null,
      "outputs": []
    }
  ]
}